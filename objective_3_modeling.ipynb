{
  "nbformat": 4,
  "nbformat_minor": 0,
  "metadata": {
    "colab": {
      "name": "objective-3-modeling.ipynb",
      "provenance": [],
      "authorship_tag": "ABX9TyOBOsGFhMIrjv1Cl1BQEC7z",
      "include_colab_link": true
    },
    "kernelspec": {
      "name": "python3",
      "display_name": "Python 3"
    },
    "language_info": {
      "name": "python"
    }
  },
  "cells": [
    {
      "cell_type": "markdown",
      "metadata": {
        "id": "view-in-github",
        "colab_type": "text"
      },
      "source": [
        "<a href=\"https://colab.research.google.com/github/mariosilvestri3/capstone-objectives-1-2-3/blob/main/objective_3_modeling.ipynb\" target=\"_parent\"><img src=\"https://colab.research.google.com/assets/colab-badge.svg\" alt=\"Open In Colab\"/></a>"
      ]
    },
    {
      "cell_type": "markdown",
      "metadata": {
        "id": "687VbL5dqWyF"
      },
      "source": [
        "# TelCo Customer Churn - Capstone for Mario Silvestri\n",
        "## Objective 3 - Modeling with Machine Learning\n",
        "This notebook is the model selection, training and validation process and final deliverable for Objective 3 - Modeling."
      ]
    },
    {
      "cell_type": "markdown",
      "metadata": {
        "id": "tBEcVg2zrDXK"
      },
      "source": [
        "### Import preprepped data"
      ]
    },
    {
      "cell_type": "code",
      "metadata": {
        "id": "GK017pFVo8pO"
      },
      "source": [
        "import numpy as np\n",
        "import pandas as pd\n",
        "from sklearn.model_selection import train_test_split\n",
        "from sklearn.linear_model import LogisticRegression\n",
        "from sklearn.tree import DecisionTreeClassifier\n",
        "churn_data_file = 'https://raw.githubusercontent.com/mariosilvestri3/capstone-objectives-1-2-3/main/customer-churn-prepped.csv'\n",
        "df = pd.read_csv(churn_data_file)"
      ],
      "execution_count": 34,
      "outputs": []
    },
    {
      "cell_type": "markdown",
      "metadata": {
        "id": "qACB5GIJsyVq"
      },
      "source": [
        "### Assign Feature and Target variables"
      ]
    },
    {
      "cell_type": "code",
      "metadata": {
        "id": "kDEUaHGhs81a"
      },
      "source": [
        "y = pd.get_dummies(df['Churn'], drop_first=True)\n",
        "X = pd.get_dummies(df.drop(columns=['Churn']), drop_first=True)"
      ],
      "execution_count": 3,
      "outputs": []
    },
    {
      "cell_type": "markdown",
      "metadata": {
        "id": "lF_pjc1Yr5St"
      },
      "source": [
        "### Split data into training and validation (test) sets."
      ]
    },
    {
      "cell_type": "code",
      "metadata": {
        "id": "LIg2gE0bsAKr"
      },
      "source": [
        "train_X, val_X, train_y, val_y = train_test_split(X, y, random_state=1)"
      ],
      "execution_count": 4,
      "outputs": []
    },
    {
      "cell_type": "markdown",
      "metadata": {
        "id": "gf29sUgqw9Vr"
      },
      "source": [
        "### Train and Test Decision Tree Model"
      ]
    },
    {
      "cell_type": "code",
      "metadata": {
        "id": "4C4AehvaxQp5"
      },
      "source": [
        "tree_model = DecisionTreeClassifier()\n",
        "tree_model.fit(train_X, train_y)\n",
        "tree_model_predictions = tree_model.predict(val_X)"
      ],
      "execution_count": 5,
      "outputs": []
    },
    {
      "cell_type": "code",
      "metadata": {
        "colab": {
          "base_uri": "https://localhost:8080/"
        },
        "id": "1mZzdquwlxTq",
        "outputId": "76887839-7501-4418-ead4-f8720866cd04"
      },
      "source": [
        "correct = 0\n",
        "incorrect = 0\n",
        "for index, prediction in enumerate(tree_model_predictions):\n",
        "  if prediction == val_y.iloc[index,0]:\n",
        "    correct += 1\n",
        "    continue\n",
        "  incorrect +=1\n",
        "\n",
        "print('Correct:', correct)\n",
        "print('Incorrect:', incorrect)\n",
        "print('Accuracy:', \"{:.1f}\".format(correct*100/(incorrect+correct)) + '%')"
      ],
      "execution_count": 21,
      "outputs": [
        {
          "output_type": "stream",
          "name": "stdout",
          "text": [
            "Correct: 1276\n",
            "Incorrect: 485\n",
            "Accuracy: 72.5%\n"
          ]
        }
      ]
    },
    {
      "cell_type": "markdown",
      "metadata": {
        "id": "8SfvyiaPodvk"
      },
      "source": [
        "### Train and Test Logistic Regression Model"
      ]
    },
    {
      "cell_type": "code",
      "metadata": {
        "id": "cLzHDCitpUlt"
      },
      "source": [
        "lr_model = LogisticRegression()\n",
        "lr_model.fit(train_X, np.ravel(train_y))\n",
        "lr_model_predictions = lr_model.predict(val_X)"
      ],
      "execution_count": 35,
      "outputs": []
    },
    {
      "cell_type": "code",
      "metadata": {
        "id": "A5BfUy4Iphuk",
        "outputId": "5138e029-6825-47e8-ca1e-7e7d8d683036",
        "colab": {
          "base_uri": "https://localhost:8080/"
        }
      },
      "source": [
        "correct = 0\n",
        "incorrect = 0\n",
        "for index, prediction in enumerate(lr_model_predictions):\n",
        "  if prediction == val_y.iloc[index,0]:\n",
        "    correct += 1\n",
        "    continue\n",
        "  incorrect +=1\n",
        "\n",
        "print('Correct:', correct)\n",
        "print('Incorrect:', incorrect)\n",
        "print('Accuracy:', \"{:.1f}\".format(correct*100/(incorrect+correct)) + '%')"
      ],
      "execution_count": 37,
      "outputs": [
        {
          "output_type": "stream",
          "name": "stdout",
          "text": [
            "Correct: 1404\n",
            "Incorrect: 357\n",
            "Accuracy: 79.7%\n"
          ]
        }
      ]
    }
  ]
}