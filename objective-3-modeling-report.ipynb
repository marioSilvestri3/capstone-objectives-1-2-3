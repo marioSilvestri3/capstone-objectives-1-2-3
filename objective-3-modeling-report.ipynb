{
  "nbformat": 4,
  "nbformat_minor": 0,
  "metadata": {
    "colab": {
      "name": "objective-3-modeling-report.ipynb",
      "provenance": [],
      "authorship_tag": "ABX9TyNTU8IYs4HV83e5p98fRWPI",
      "include_colab_link": true
    },
    "kernelspec": {
      "name": "python3",
      "display_name": "Python 3"
    },
    "language_info": {
      "name": "python"
    }
  },
  "cells": [
    {
      "cell_type": "markdown",
      "metadata": {
        "id": "view-in-github",
        "colab_type": "text"
      },
      "source": [
        "<a href=\"https://colab.research.google.com/github/mariosilvestri3/capstone-objectives-1-2-3/blob/main/objective-3-modeling-report.ipynb\" target=\"_parent\"><img src=\"https://colab.research.google.com/assets/colab-badge.svg\" alt=\"Open In Colab\"/></a>"
      ]
    },
    {
      "cell_type": "markdown",
      "metadata": {
        "id": "687VbL5dqWyF"
      },
      "source": [
        "# TelCo Customer Churn - Capstone for Mario Silvestri\n",
        "## Objective 3 - Modeling with Machine Learning\n",
        "This notebook is the model selection, training and validation process and final deliverable for Objective 3 - Modeling."
      ]
    },
    {
      "cell_type": "markdown",
      "metadata": {
        "id": "tBEcVg2zrDXK"
      },
      "source": [
        "### Import preprepped data"
      ]
    },
    {
      "cell_type": "code",
      "metadata": {
        "id": "GK017pFVo8pO"
      },
      "source": [
        "import numpy as np\n",
        "import pandas as pd\n",
        "from sklearn.model_selection import train_test_split\n",
        "from sklearn.linear_model import LogisticRegression\n",
        "from sklearn.tree import DecisionTreeClassifier\n",
        "churn_data_file = 'https://raw.githubusercontent.com/mariosilvestri3/capstone-objectives-1-2-3/main/customer-churn-prepped.csv'\n",
        "df = pd.read_csv(churn_data_file)"
      ],
      "execution_count": null,
      "outputs": []
    },
    {
      "cell_type": "markdown",
      "metadata": {
        "id": "qACB5GIJsyVq"
      },
      "source": [
        "### Assign Feature and Target variables"
      ]
    },
    {
      "cell_type": "code",
      "metadata": {
        "id": "kDEUaHGhs81a"
      },
      "source": [
        "y = df['Churn_Yes']\n",
        "X = df.drop(columns=['Churn_Yes'])"
      ],
      "execution_count": null,
      "outputs": []
    },
    {
      "cell_type": "markdown",
      "metadata": {
        "id": "lF_pjc1Yr5St"
      },
      "source": [
        "### Split data into training and validation (test) sets."
      ]
    },
    {
      "cell_type": "code",
      "metadata": {
        "id": "LIg2gE0bsAKr"
      },
      "source": [
        "train_X, val_X, train_y, val_y = train_test_split(X, y, random_state=1)"
      ],
      "execution_count": null,
      "outputs": []
    },
    {
      "cell_type": "markdown",
      "metadata": {
        "id": "gf29sUgqw9Vr"
      },
      "source": [
        "### Train and Test Decision Tree Model"
      ]
    },
    {
      "cell_type": "code",
      "metadata": {
        "id": "4C4AehvaxQp5"
      },
      "source": [
        "tree_model = DecisionTreeClassifier()\n",
        "tree_model.fit(train_X, train_y)\n",
        "tree_model_predictions = tree_model.predict(val_X)"
      ],
      "execution_count": null,
      "outputs": []
    },
    {
      "cell_type": "code",
      "metadata": {
        "colab": {
          "base_uri": "https://localhost:8080/"
        },
        "id": "1mZzdquwlxTq",
        "outputId": "dad53dd7-4ccc-4839-e3ff-475677a28fa5"
      },
      "source": [
        "correct = 0\n",
        "incorrect = 0\n",
        "for index, prediction in enumerate(tree_model_predictions):\n",
        "  if prediction == val_y.iloc[index]:\n",
        "    correct += 1\n",
        "    continue\n",
        "  incorrect +=1\n",
        "\n",
        "print('Correct:', correct)\n",
        "print('Incorrect:', incorrect)\n",
        "print('Accuracy:', \"{:.1f}\".format(correct*100/(incorrect+correct)) + '%')"
      ],
      "execution_count": null,
      "outputs": [
        {
          "output_type": "stream",
          "name": "stdout",
          "text": [
            "Correct: 1284\n",
            "Incorrect: 477\n",
            "Accuracy: 72.9%\n"
          ]
        }
      ]
    },
    {
      "cell_type": "markdown",
      "metadata": {
        "id": "TzuGmF4IVgyx"
      },
      "source": [
        "Findings: A Decision Tree Model is able to predict churn with 73% accuracy."
      ]
    },
    {
      "cell_type": "markdown",
      "metadata": {
        "id": "8SfvyiaPodvk"
      },
      "source": [
        "### Train and Test Logistic Regression Model"
      ]
    },
    {
      "cell_type": "code",
      "metadata": {
        "id": "cLzHDCitpUlt"
      },
      "source": [
        "logr_model = LogisticRegression()\n",
        "logr_model.fit(train_X, np.ravel(train_y))\n",
        "logr_model_predictions = logr_model.predict(val_X)"
      ],
      "execution_count": null,
      "outputs": []
    },
    {
      "cell_type": "code",
      "metadata": {
        "colab": {
          "base_uri": "https://localhost:8080/"
        },
        "id": "A5BfUy4Iphuk",
        "outputId": "7977dd0c-a09a-4f2b-82d5-fd3957ba4f2b"
      },
      "source": [
        "correct = 0\n",
        "incorrect = 0\n",
        "for index, prediction in enumerate(logr_model_predictions):\n",
        "  if prediction == val_y.iloc[index]:\n",
        "    correct += 1\n",
        "    continue\n",
        "  incorrect +=1\n",
        "\n",
        "print('Correct:', correct)\n",
        "print('Incorrect:', incorrect)\n",
        "print('Accuracy:', \"{:.1f}\".format(correct*100/(incorrect+correct)) + '%')"
      ],
      "execution_count": null,
      "outputs": [
        {
          "output_type": "stream",
          "name": "stdout",
          "text": [
            "Correct: 1404\n",
            "Incorrect: 357\n",
            "Accuracy: 79.7%\n"
          ]
        }
      ]
    },
    {
      "cell_type": "markdown",
      "metadata": {
        "id": "-oMusQczVvjx"
      },
      "source": [
        "Findings: A logistic regression model is able to predict churn with 80% accuracy."
      ]
    },
    {
      "cell_type": "markdown",
      "metadata": {
        "id": "ybHvsOuXIJVj"
      },
      "source": [
        "### Summary\n",
        "\n",
        "Preprocessed data is split into validation and test sets and input into two modeling algorithms, decision tree and logistic regression.\n",
        "\n",
        "|Model|Accuracy|\n",
        "|---|---|\n",
        "|Decision Tree|73%|\n",
        "|Logistic Regression|80%|\n",
        "\n",
        "#### Conclusion\n",
        "\n",
        "* The logistic regression model meets the 80% prediction requirements.\n",
        "* The data product dashboard query will use a logistic regression model."
      ]
    }
  ]
}